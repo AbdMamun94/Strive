{
 "cells": [
  {
   "cell_type": "markdown",
   "source": [
    "Here you have a collection of guided exercises for the first class on Python. <br>\n",
    "The exercises are divided by topic, following the topics reviewed during the theory session, and for each topic you have some mandatory exercises, and other optional exercises, which you are invited to do if you still have time after the mandatory exercises. <br>\n",
    "\n",
    "Remember that you have 5 hours to solve these exercises, after which we will review the most interesting exercises together. If you don't finish all the exercises, you can work on them tonightor tomorrow. \n",
    "\n",
    "At the end of the class, we will upload the code with the solutions of the exercises so that you can review them again if needed. If you still have not finished some exercises, try to do them first by yourself, before taking a look at the solutions: you are doing these exercises for yourself, so it is always the best to do them your way first, as it is the fastest way to learn!"
   ],
   "metadata": {}
  },
  {
   "cell_type": "markdown",
   "source": [
    "**Exercise 1.1:** The cover price of a book is 24.95 EUR, but bookstores get a 40 percent discount. Shipping costs 3 EUR for the first copy and 75 cents for each additional copy. **Calculate the total wholesale costs for 60 copies**. "
   ],
   "metadata": {}
  },
  {
   "cell_type": "code",
   "execution_count": 18,
   "source": [
    "Total_Wholesale_Cost = (((24.91*0.60)+3) + (59*(24.91*0.60)+0.75))\r\n",
    "print (Total_Wholesale_Cost)"
   ],
   "outputs": [
    {
     "output_type": "stream",
     "name": "stdout",
     "text": [
      "900.51\n"
     ]
    }
   ],
   "metadata": {}
  },
  {
   "cell_type": "markdown",
   "source": [
    "**Exercise 1.2:** When something is wrong with your code, Python will raise errors. Often these will be \"syntax errors\" that signal that something is wrong with the form of your code (e.g., the code in the previous exercise raised a `SyntaxError`). There are also \"runtime errors\", which signal that your code was in itself formally correct, but that something went wrong during the code's execution. A good example is the `ZeroDivisionError`, which indicates that you tried to divide a number by zero (which, as you may know, is not allowed). Try to make Python **raise such a `ZeroDivisionError`.**"
   ],
   "metadata": {}
  },
  {
   "cell_type": "code",
   "execution_count": 19,
   "source": [
    "print ( 2/0)"
   ],
   "outputs": [
    {
     "output_type": "error",
     "ename": "ZeroDivisionError",
     "evalue": "division by zero",
     "traceback": [
      "\u001b[1;31m---------------------------------------------------------------------------\u001b[0m",
      "\u001b[1;31mZeroDivisionError\u001b[0m                         Traceback (most recent call last)",
      "\u001b[1;32m<ipython-input-19-52a978633f6a>\u001b[0m in \u001b[0;36m<module>\u001b[1;34m\u001b[0m\n\u001b[1;32m----> 1\u001b[1;33m \u001b[0mprint\u001b[0m \u001b[1;33m(\u001b[0m \u001b[1;36m2\u001b[0m\u001b[1;33m/\u001b[0m\u001b[1;36m0\u001b[0m\u001b[1;33m)\u001b[0m\u001b[1;33m\u001b[0m\u001b[1;33m\u001b[0m\u001b[0m\n\u001b[0m",
      "\u001b[1;31mZeroDivisionError\u001b[0m: division by zero"
     ]
    }
   ],
   "metadata": {}
  },
  {
   "cell_type": "markdown",
   "source": [
    "**Exercise 5.1**: Create a countdown function that starts at a certain count, and counts down to zero. Instead of zero, print \"Blast off!\". Use a `for` loop. \n"
   ],
   "metadata": {}
  },
  {
   "cell_type": "code",
   "execution_count": 26,
   "source": [
    "# Countdown\r\n",
    "def countdown():\r\n",
    "    \"\"\"\r\n",
    "    20\r\n",
    "    19\r\n",
    "    18\r\n",
    "    17\r\n",
    "    16\r\n",
    "    15\r\n",
    "    14\r\n",
    "    13\r\n",
    "    12\r\n",
    "    11\r\n",
    "    10\r\n",
    "    9\r\n",
    "    8\r\n",
    "    7\r\n",
    "    6\r\n",
    "    5\r\n",
    "    4\r\n",
    "    3\r\n",
    "    2\r\n",
    "    1\r\n",
    "    Blast off!\r\n",
    "    \"\"\"\r\n",
    "    return\r\n",
    "\r\n",
    "def countdown (z) :\r\n",
    "    for i in range (z, 0 , -1):\r\n",
    "        print(i)\r\n",
    "        print ( \"Blast off!\")\r\n",
    "countdown(20)\r\n"
   ],
   "outputs": [
    {
     "output_type": "stream",
     "name": "stdout",
     "text": [
      "20\n",
      "Blast off!\n",
      "19\n",
      "Blast off!\n",
      "18\n",
      "Blast off!\n",
      "17\n",
      "Blast off!\n",
      "16\n",
      "Blast off!\n",
      "15\n",
      "Blast off!\n",
      "14\n",
      "Blast off!\n",
      "13\n",
      "Blast off!\n",
      "12\n",
      "Blast off!\n",
      "11\n",
      "Blast off!\n",
      "10\n",
      "Blast off!\n",
      "9\n",
      "Blast off!\n",
      "8\n",
      "Blast off!\n",
      "7\n",
      "Blast off!\n",
      "6\n",
      "Blast off!\n",
      "5\n",
      "Blast off!\n",
      "4\n",
      "Blast off!\n",
      "3\n",
      "Blast off!\n",
      "2\n",
      "Blast off!\n",
      "1\n",
      "Blast off!\n"
     ]
    }
   ],
   "metadata": {}
  },
  {
   "cell_type": "markdown",
   "source": [
    "**Exercise 5.2:** Write and test three functions that return the largest, the smallest, and the number of dividables by 3 in a given collection of numbers. Use the algorithm described earlier in the Part 5 lecture :)"
   ],
   "metadata": {}
  },
  {
   "cell_type": "code",
   "execution_count": 36,
   "source": [
    "# Your functions\r\n",
    "def main():\r\n",
    "    \"\"\"\r\n",
    "    a = [2, 4, 6, 12, 15, 99, 100]\r\n",
    "    100\r\n",
    "    2\r\n",
    "    4\r\n",
    "    \"\"\"\r\n",
    "    return\r\n",
    "\r\n",
    "\r\n",
    "a = [2, 4, 6, 12, 15, 99, 100]\r\n",
    "\r\n",
    "max_number = max(a)\r\n",
    "print (max_number)\r\n",
    "\r\n",
    "min_number = min(a)\r\n",
    "print (min_number)\r\n",
    "\r\n",
    "div = []\r\n",
    "for i in a :\r\n",
    "    if i % 3 == 0:\r\n",
    "       div.append(i)\r\n",
    "print (len (div))"
   ],
   "outputs": [
    {
     "output_type": "stream",
     "name": "stdout",
     "text": [
      "100\n",
      "2\n",
      "4\n"
     ]
    }
   ],
   "metadata": {}
  }
 ],
 "metadata": {
  "kernelspec": {
   "name": "python3",
   "display_name": "Python 3.8.8 64-bit ('base': conda)"
  },
  "language_info": {
   "codemirror_mode": {
    "name": "ipython",
    "version": 3
   },
   "file_extension": ".py",
   "mimetype": "text/x-python",
   "name": "python",
   "nbconvert_exporter": "python",
   "pygments_lexer": "ipython3",
   "version": "3.8.8"
  },
  "interpreter": {
   "hash": "f9b881e75caa644a284f3c4f1f8a5d2e956f0c3bd67068db2bc0215b911131ba"
  }
 },
 "nbformat": 4,
 "nbformat_minor": 4
}